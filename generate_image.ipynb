{
 "cells": [
  {
   "cell_type": "markdown",
   "metadata": {},
   "source": [
    "原始图像来源于隋安的FFD项目，图像生成代码修改自隋安的FFD项目"
   ]
  },
  {
   "cell_type": "code",
   "execution_count": 1,
   "metadata": {},
   "outputs": [],
   "source": [
    "import numpy as np\n",
    "import SimpleITK as sitk\n",
    "from PIL import Image\n",
    "from matplotlib import pyplot as plt\n",
    "\n",
    "from func import *"
   ]
  },
  {
   "cell_type": "code",
   "execution_count": 2,
   "metadata": {},
   "outputs": [
    {
     "name": "stderr",
     "output_type": "stream",
     "text": [
      "/home/gonghaiyu/miniconda3/envs/pytorch/lib/python3.10/site-packages/torch/functional.py:504: UserWarning: torch.meshgrid: in an upcoming release, it will be required to pass the indexing argument. (Triggered internally at ../aten/src/ATen/native/TensorShape.cpp:3526.)\n",
      "  return _VF.meshgrid(tensors, **kwargs)  # type: ignore[attr-defined]\n"
     ]
    }
   ],
   "source": [
    "# 生成测试数据\n",
    "torch.manual_seed(926)  # random seed\n",
    "image_path = './data/raw_data/Case1032_stacked_CINE_segmented_LAX_4Ch_20180801_1.nii.gz'  # 图像路径\n",
    "itk_img = sitk.ReadImage(image_path)\n",
    "img = sitk.GetArrayFromImage(itk_img)\n",
    "chosen_slice = img[0, :, :]/1.0  # 取一个切片：3D → 2D  (174, 192)\n",
    "h = 40  # 网格间距;控制点数量与此有关,间距越小,控制点越多,变形能力越强\n",
    "sigma = 10  # 形变程度,值为0时只作仿射变换\n",
    "target_img = torch.tensor(chosen_slice)\n",
    "target_img_tensor = target_img.float().unsqueeze(0)  # 在位置0处增加一个维度\n",
    "mesh_size = (torch.tensor(target_img.shape) / h).floor().int() + 4  # 由节点构成的网格大小: 8 × 8 (h = 40)\n",
    "# mesh_displacement = torch.randn((2, mesh_size[0], mesh_size[1])) * sigma  # 随机生成FFD网格在两个维度上各自的位移, shape: 2 × 8 × 8\n",
    "mesh_displacement=torch.load('./data/FFD/parameter/mesh_displacement.pt')   # 为确保复现，从文件中读取之前所用的位移\n",
    "img_coord = make_coord(target_img_tensor.shape[1:])  # 2 x H x W: 2 × 174 × 192\n",
    "\n",
    "target_coord = FFD_transformation(img_coord, mesh_displacement, h)  # FFD自由形变, 参数: 位移, h\n",
    "interpolated_img_tensor = linear_interpolation(target_coord, target_img_tensor)  # 利用插值获取新坐标处的像素值\n",
    "\n",
    "grid_img = torch.ones_like(target_img_tensor)\n",
    "grid_img[:, :, ::20] = 0\n",
    "grid_img[:, ::20, :] = 0  # 以上三行用于制作网格状图像, 用以可视化deformation field\n",
    "deformation_field = linear_interpolation(target_coord, grid_img)\n",
    "reference_img = Image.fromarray(np.uint8(normalize(chosen_slice)*255))\n",
    "reference_img.save('./data/FFD/image/test_reference_img.jpg')\n",
    "floating_img = Image.fromarray(np.uint8(normalize(interpolated_img_tensor.squeeze(0).numpy())*255))\n",
    "\n",
    "floating_img.save('./data/FFD/image/test_floating_img.jpg')  # sigma > 0时使用\n",
    "deformation_field_img = Image.fromarray(np.uint8(normalize(deformation_field.squeeze(0).numpy())*255))\n",
    "deformation_field_img.save('./data/FFD/image/test_deformation_field.jpg')\n",
    "different_img = Image.fromarray(np.uint8(normalize((interpolated_img_tensor-target_img_tensor).detach().squeeze(0).numpy())*255))\n",
    "different_img.save('./data/FFD/image/test_different_img.jpg')"
   ]
  },
  {
   "cell_type": "code",
   "execution_count": 12,
   "metadata": {},
   "outputs": [],
   "source": [
    "torch.save(mesh_displacement, './data/FFD/parameter/mesh_displacement.pt')  # 保存位移参数，以便复现"
   ]
  },
  {
   "cell_type": "code",
   "execution_count": 7,
   "metadata": {},
   "outputs": [],
   "source": [
    "# 生成训练数据，使用生成测试数据所用的形变场\n",
    "image_path = './data/raw_data/Case1032_stacked_CINE_segmented_SAX_InlineVF_20180801_3.nii.gz'  # 图像路径\n",
    "itk_img = sitk.ReadImage(image_path)\n",
    "img = np.transpose(sitk.GetArrayFromImage(itk_img),(0,1,3,2))\n",
    "\n",
    "for idx in range(10):\n",
    "    chosen_slice = img[0,idx, :, :]/1.0  # 取一个切片：3D → 2D  (174, 192)\n",
    "\n",
    "    target_img = torch.tensor(chosen_slice)\n",
    "    target_img_tensor = target_img.float().unsqueeze(0)  # 在位置0处增加一个维度\n",
    "\n",
    "    interpolated_img_tensor = linear_interpolation(target_coord, target_img_tensor)  # 利用插值获取新坐标处的像素值\n",
    "\n",
    "    deformation_field = linear_interpolation(target_coord, grid_img)\n",
    "    reference_img = Image.fromarray(np.uint8(normalize(chosen_slice)*255))\n",
    "    reference_img.save(f'./data/FFD/image/train_reference_img_{idx}.jpg')\n",
    "    floating_img = Image.fromarray(np.uint8(normalize(interpolated_img_tensor.squeeze(0).numpy())*255))\n",
    "    # floating_img.save('image/generate_image/floating_img_affine_only.jpg')  # sigma = 0时使用\n",
    "    floating_img.save(f'./data/FFD/image/train_floating_img_{idx}.jpg')  # sigma > 0时使用\n",
    "    deformation_field_img = Image.fromarray(np.uint8(normalize(deformation_field.squeeze(0).numpy())*255))\n",
    "    deformation_field_img.save(f'./data/FFD/image/train_deformation_field_{idx}.jpg')\n",
    "    different_img = Image.fromarray(np.uint8(normalize((interpolated_img_tensor-target_img_tensor).detach().squeeze(0).numpy())*255))\n",
    "    different_img.save(f'./data/FFD/image/train_different_img_{idx}.jpg')"
   ]
  }
 ],
 "metadata": {
  "kernelspec": {
   "display_name": "pytorch",
   "language": "python",
   "name": "python3"
  },
  "language_info": {
   "codemirror_mode": {
    "name": "ipython",
    "version": 3
   },
   "file_extension": ".py",
   "mimetype": "text/x-python",
   "name": "python",
   "nbconvert_exporter": "python",
   "pygments_lexer": "ipython3",
   "version": "3.10.13"
  }
 },
 "nbformat": 4,
 "nbformat_minor": 2
}
